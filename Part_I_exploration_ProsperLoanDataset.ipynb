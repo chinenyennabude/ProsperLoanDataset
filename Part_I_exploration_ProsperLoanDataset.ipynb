{
 "cells": [
  {
   "cell_type": "markdown",
   "metadata": {},
   "source": [
    "# Part I - (Loan Data from Prosper)\n",
    "## by (Chinenye Mercy Nnabude)\n",
    "\n",
    "## Table of Contents\n",
    "<ul>\n",
    "<li><a href=\"#intro\">Introduction</a></li>\n",
    "<li><a href=\"#wrangling\">Preliminary Wrangling</a></li>\n",
    "<li><a href=\"#univariate\">Univariate Analysis</a></li>\n",
    "<li><a href=\"#bivariate\">Bivariate Analysis</a></li>\n",
    "<li><a href=\"#multivariate\">Multivariate Analysis</a></li>\n",
    "<li><a href=\"#conclusion\">Conclusions</a></li>\n",
    "</ul>\n",
    "\n",
    "\n",
    "<a id='intro'></a>\n",
    "## Introduction\n",
    "> This work entails a detailed exploration of Loan Data from Prosper dataset, this data set contains 113,937 loans with 81 variables on each loan, including loan amount, borrower rate or interest rate, current loan status, borrower income, and many other variable.\n",
    "In an attempt to explore this Dataset and answer the questions of interest, I would be carrying Data wrangling and Data Visualization steps in the cells below, using python plotting libraries Matplotlib, Seaborn and other libraries.\n",
    "\n",
    " \n",
    "\n",
    "\n",
    "<a id='wrangling'></a>\n",
    "## Preliminary Wrangling\n",
    "> I would be perfoming wrangling steps on my dataset in the cells to come below by Gahtering, Assessing and cleaning up the dataset, in order to answer the following questions below.\n",
    "\n",
    ">1. What factors affect a loan’s outcome status?\n",
    "\n",
    "\n",
    ">2. What affects the borrower’s APR or interest rate?\n",
    "\n",
    "\n"
   ]
  },
  {
   "cell_type": "code",
   "execution_count": 1,
   "metadata": {},
   "outputs": [],
   "source": [
    "# import all packages and set plots to be embedded inline\n",
    "import numpy as np\n",
    "import pandas as pd\n",
    "import matplotlib.pyplot as plt\n",
    "import seaborn as sb\n",
    "\n",
    "%matplotlib inline"
   ]
  },
  {
   "cell_type": "markdown",
   "metadata": {},
   "source": [
    "> In the cell below, I would be loading my Loan data dataset into a pandas dataframe (loan_df) to further access, investigate and explore the dataset\n"
   ]
  },
  {
   "cell_type": "code",
   "execution_count": 2,
   "metadata": {},
   "outputs": [
    {
     "data": {
      "text/html": [
       "<div>\n",
       "<style scoped>\n",
       "    .dataframe tbody tr th:only-of-type {\n",
       "        vertical-align: middle;\n",
       "    }\n",
       "\n",
       "    .dataframe tbody tr th {\n",
       "        vertical-align: top;\n",
       "    }\n",
       "\n",
       "    .dataframe thead th {\n",
       "        text-align: right;\n",
       "    }\n",
       "</style>\n",
       "<table border=\"1\" class=\"dataframe\">\n",
       "  <thead>\n",
       "    <tr style=\"text-align: right;\">\n",
       "      <th></th>\n",
       "      <th>ListingKey</th>\n",
       "      <th>ListingNumber</th>\n",
       "      <th>ListingCreationDate</th>\n",
       "      <th>CreditGrade</th>\n",
       "      <th>Term</th>\n",
       "      <th>LoanStatus</th>\n",
       "      <th>ClosedDate</th>\n",
       "      <th>BorrowerAPR</th>\n",
       "      <th>BorrowerRate</th>\n",
       "      <th>LenderYield</th>\n",
       "      <th>...</th>\n",
       "      <th>LP_ServiceFees</th>\n",
       "      <th>LP_CollectionFees</th>\n",
       "      <th>LP_GrossPrincipalLoss</th>\n",
       "      <th>LP_NetPrincipalLoss</th>\n",
       "      <th>LP_NonPrincipalRecoverypayments</th>\n",
       "      <th>PercentFunded</th>\n",
       "      <th>Recommendations</th>\n",
       "      <th>InvestmentFromFriendsCount</th>\n",
       "      <th>InvestmentFromFriendsAmount</th>\n",
       "      <th>Investors</th>\n",
       "    </tr>\n",
       "  </thead>\n",
       "  <tbody>\n",
       "    <tr>\n",
       "      <th>0</th>\n",
       "      <td>1021339766868145413AB3B</td>\n",
       "      <td>193129</td>\n",
       "      <td>2007-08-26 19:09:29.263000000</td>\n",
       "      <td>C</td>\n",
       "      <td>36</td>\n",
       "      <td>Completed</td>\n",
       "      <td>2009-08-14 00:00:00</td>\n",
       "      <td>0.16516</td>\n",
       "      <td>0.1580</td>\n",
       "      <td>0.1380</td>\n",
       "      <td>...</td>\n",
       "      <td>-133.18</td>\n",
       "      <td>0.0</td>\n",
       "      <td>0.0</td>\n",
       "      <td>0.0</td>\n",
       "      <td>0.0</td>\n",
       "      <td>1.0</td>\n",
       "      <td>0</td>\n",
       "      <td>0</td>\n",
       "      <td>0.0</td>\n",
       "      <td>258</td>\n",
       "    </tr>\n",
       "    <tr>\n",
       "      <th>1</th>\n",
       "      <td>10273602499503308B223C1</td>\n",
       "      <td>1209647</td>\n",
       "      <td>2014-02-27 08:28:07.900000000</td>\n",
       "      <td>NaN</td>\n",
       "      <td>36</td>\n",
       "      <td>Current</td>\n",
       "      <td>NaN</td>\n",
       "      <td>0.12016</td>\n",
       "      <td>0.0920</td>\n",
       "      <td>0.0820</td>\n",
       "      <td>...</td>\n",
       "      <td>0.00</td>\n",
       "      <td>0.0</td>\n",
       "      <td>0.0</td>\n",
       "      <td>0.0</td>\n",
       "      <td>0.0</td>\n",
       "      <td>1.0</td>\n",
       "      <td>0</td>\n",
       "      <td>0</td>\n",
       "      <td>0.0</td>\n",
       "      <td>1</td>\n",
       "    </tr>\n",
       "    <tr>\n",
       "      <th>2</th>\n",
       "      <td>0EE9337825851032864889A</td>\n",
       "      <td>81716</td>\n",
       "      <td>2007-01-05 15:00:47.090000000</td>\n",
       "      <td>HR</td>\n",
       "      <td>36</td>\n",
       "      <td>Completed</td>\n",
       "      <td>2009-12-17 00:00:00</td>\n",
       "      <td>0.28269</td>\n",
       "      <td>0.2750</td>\n",
       "      <td>0.2400</td>\n",
       "      <td>...</td>\n",
       "      <td>-24.20</td>\n",
       "      <td>0.0</td>\n",
       "      <td>0.0</td>\n",
       "      <td>0.0</td>\n",
       "      <td>0.0</td>\n",
       "      <td>1.0</td>\n",
       "      <td>0</td>\n",
       "      <td>0</td>\n",
       "      <td>0.0</td>\n",
       "      <td>41</td>\n",
       "    </tr>\n",
       "    <tr>\n",
       "      <th>3</th>\n",
       "      <td>0EF5356002482715299901A</td>\n",
       "      <td>658116</td>\n",
       "      <td>2012-10-22 11:02:35.010000000</td>\n",
       "      <td>NaN</td>\n",
       "      <td>36</td>\n",
       "      <td>Current</td>\n",
       "      <td>NaN</td>\n",
       "      <td>0.12528</td>\n",
       "      <td>0.0974</td>\n",
       "      <td>0.0874</td>\n",
       "      <td>...</td>\n",
       "      <td>-108.01</td>\n",
       "      <td>0.0</td>\n",
       "      <td>0.0</td>\n",
       "      <td>0.0</td>\n",
       "      <td>0.0</td>\n",
       "      <td>1.0</td>\n",
       "      <td>0</td>\n",
       "      <td>0</td>\n",
       "      <td>0.0</td>\n",
       "      <td>158</td>\n",
       "    </tr>\n",
       "    <tr>\n",
       "      <th>4</th>\n",
       "      <td>0F023589499656230C5E3E2</td>\n",
       "      <td>909464</td>\n",
       "      <td>2013-09-14 18:38:39.097000000</td>\n",
       "      <td>NaN</td>\n",
       "      <td>36</td>\n",
       "      <td>Current</td>\n",
       "      <td>NaN</td>\n",
       "      <td>0.24614</td>\n",
       "      <td>0.2085</td>\n",
       "      <td>0.1985</td>\n",
       "      <td>...</td>\n",
       "      <td>-60.27</td>\n",
       "      <td>0.0</td>\n",
       "      <td>0.0</td>\n",
       "      <td>0.0</td>\n",
       "      <td>0.0</td>\n",
       "      <td>1.0</td>\n",
       "      <td>0</td>\n",
       "      <td>0</td>\n",
       "      <td>0.0</td>\n",
       "      <td>20</td>\n",
       "    </tr>\n",
       "  </tbody>\n",
       "</table>\n",
       "<p>5 rows × 81 columns</p>\n",
       "</div>"
      ],
      "text/plain": [
       "                ListingKey  ListingNumber            ListingCreationDate  \\\n",
       "0  1021339766868145413AB3B         193129  2007-08-26 19:09:29.263000000   \n",
       "1  10273602499503308B223C1        1209647  2014-02-27 08:28:07.900000000   \n",
       "2  0EE9337825851032864889A          81716  2007-01-05 15:00:47.090000000   \n",
       "3  0EF5356002482715299901A         658116  2012-10-22 11:02:35.010000000   \n",
       "4  0F023589499656230C5E3E2         909464  2013-09-14 18:38:39.097000000   \n",
       "\n",
       "  CreditGrade  Term LoanStatus           ClosedDate  BorrowerAPR  \\\n",
       "0           C    36  Completed  2009-08-14 00:00:00      0.16516   \n",
       "1         NaN    36    Current                  NaN      0.12016   \n",
       "2          HR    36  Completed  2009-12-17 00:00:00      0.28269   \n",
       "3         NaN    36    Current                  NaN      0.12528   \n",
       "4         NaN    36    Current                  NaN      0.24614   \n",
       "\n",
       "   BorrowerRate  LenderYield  ...  LP_ServiceFees  LP_CollectionFees  \\\n",
       "0        0.1580       0.1380  ...         -133.18                0.0   \n",
       "1        0.0920       0.0820  ...            0.00                0.0   \n",
       "2        0.2750       0.2400  ...          -24.20                0.0   \n",
       "3        0.0974       0.0874  ...         -108.01                0.0   \n",
       "4        0.2085       0.1985  ...          -60.27                0.0   \n",
       "\n",
       "   LP_GrossPrincipalLoss  LP_NetPrincipalLoss LP_NonPrincipalRecoverypayments  \\\n",
       "0                    0.0                  0.0                             0.0   \n",
       "1                    0.0                  0.0                             0.0   \n",
       "2                    0.0                  0.0                             0.0   \n",
       "3                    0.0                  0.0                             0.0   \n",
       "4                    0.0                  0.0                             0.0   \n",
       "\n",
       "   PercentFunded  Recommendations InvestmentFromFriendsCount  \\\n",
       "0            1.0                0                          0   \n",
       "1            1.0                0                          0   \n",
       "2            1.0                0                          0   \n",
       "3            1.0                0                          0   \n",
       "4            1.0                0                          0   \n",
       "\n",
       "  InvestmentFromFriendsAmount Investors  \n",
       "0                         0.0       258  \n",
       "1                         0.0         1  \n",
       "2                         0.0        41  \n",
       "3                         0.0       158  \n",
       "4                         0.0        20  \n",
       "\n",
       "[5 rows x 81 columns]"
      ]
     },
     "execution_count": 2,
     "metadata": {},
     "output_type": "execute_result"
    }
   ],
   "source": [
    "#Load dataset\n",
    "\n",
    "loan_df = pd.read_csv('prosperLoanData.csv', sep = ',')\n",
    "loan_df.head()"
   ]
  },
  {
   "cell_type": "code",
   "execution_count": 4,
   "metadata": {},
   "outputs": [
    {
     "data": {
      "text/plain": [
       "(113937, 81)"
      ]
     },
     "execution_count": 4,
     "metadata": {},
     "output_type": "execute_result"
    }
   ],
   "source": [
    "#check data dimension\n",
    "loan_df.shape\n"
   ]
  },
  {
   "cell_type": "code",
   "execution_count": 27,
   "metadata": {},
   "outputs": [
    {
     "data": {
      "text/html": [
       "<div>\n",
       "<style scoped>\n",
       "    .dataframe tbody tr th:only-of-type {\n",
       "        vertical-align: middle;\n",
       "    }\n",
       "\n",
       "    .dataframe tbody tr th {\n",
       "        vertical-align: top;\n",
       "    }\n",
       "\n",
       "    .dataframe thead th {\n",
       "        text-align: right;\n",
       "    }\n",
       "</style>\n",
       "<table border=\"1\" class=\"dataframe\">\n",
       "  <thead>\n",
       "    <tr style=\"text-align: right;\">\n",
       "      <th></th>\n",
       "      <th>LoanStatus</th>\n",
       "      <th>BorrowerAPR</th>\n",
       "      <th>BorrowerRate</th>\n",
       "      <th>Term</th>\n",
       "      <th>EmploymentStatus</th>\n",
       "      <th>EmploymentStatusDuration</th>\n",
       "      <th>IsBorrowerHomeowner</th>\n",
       "      <th>DelinquenciesLast7Years</th>\n",
       "      <th>IncomeRange</th>\n",
       "      <th>Recommendations</th>\n",
       "      <th>AvailableBankcardCredit</th>\n",
       "    </tr>\n",
       "  </thead>\n",
       "  <tbody>\n",
       "    <tr>\n",
       "      <th>0</th>\n",
       "      <td>Completed</td>\n",
       "      <td>0.16516</td>\n",
       "      <td>0.1580</td>\n",
       "      <td>36</td>\n",
       "      <td>Self-employed</td>\n",
       "      <td>2.0</td>\n",
       "      <td>True</td>\n",
       "      <td>4.0</td>\n",
       "      <td>$25,000-49,999</td>\n",
       "      <td>0</td>\n",
       "      <td>1500.0</td>\n",
       "    </tr>\n",
       "    <tr>\n",
       "      <th>1</th>\n",
       "      <td>Current</td>\n",
       "      <td>0.12016</td>\n",
       "      <td>0.0920</td>\n",
       "      <td>36</td>\n",
       "      <td>Employed</td>\n",
       "      <td>44.0</td>\n",
       "      <td>False</td>\n",
       "      <td>0.0</td>\n",
       "      <td>$50,000-74,999</td>\n",
       "      <td>0</td>\n",
       "      <td>10266.0</td>\n",
       "    </tr>\n",
       "    <tr>\n",
       "      <th>2</th>\n",
       "      <td>Completed</td>\n",
       "      <td>0.28269</td>\n",
       "      <td>0.2750</td>\n",
       "      <td>36</td>\n",
       "      <td>Not available</td>\n",
       "      <td>NaN</td>\n",
       "      <td>False</td>\n",
       "      <td>0.0</td>\n",
       "      <td>Not displayed</td>\n",
       "      <td>0</td>\n",
       "      <td>NaN</td>\n",
       "    </tr>\n",
       "    <tr>\n",
       "      <th>3</th>\n",
       "      <td>Current</td>\n",
       "      <td>0.12528</td>\n",
       "      <td>0.0974</td>\n",
       "      <td>36</td>\n",
       "      <td>Employed</td>\n",
       "      <td>113.0</td>\n",
       "      <td>True</td>\n",
       "      <td>14.0</td>\n",
       "      <td>$25,000-49,999</td>\n",
       "      <td>0</td>\n",
       "      <td>30754.0</td>\n",
       "    </tr>\n",
       "    <tr>\n",
       "      <th>4</th>\n",
       "      <td>Current</td>\n",
       "      <td>0.24614</td>\n",
       "      <td>0.2085</td>\n",
       "      <td>36</td>\n",
       "      <td>Employed</td>\n",
       "      <td>44.0</td>\n",
       "      <td>True</td>\n",
       "      <td>0.0</td>\n",
       "      <td>$100,000+</td>\n",
       "      <td>0</td>\n",
       "      <td>695.0</td>\n",
       "    </tr>\n",
       "  </tbody>\n",
       "</table>\n",
       "</div>"
      ],
      "text/plain": [
       "  LoanStatus  BorrowerAPR  BorrowerRate  Term EmploymentStatus  \\\n",
       "0  Completed      0.16516        0.1580    36    Self-employed   \n",
       "1    Current      0.12016        0.0920    36         Employed   \n",
       "2  Completed      0.28269        0.2750    36    Not available   \n",
       "3    Current      0.12528        0.0974    36         Employed   \n",
       "4    Current      0.24614        0.2085    36         Employed   \n",
       "\n",
       "   EmploymentStatusDuration  IsBorrowerHomeowner  DelinquenciesLast7Years  \\\n",
       "0                       2.0                 True                      4.0   \n",
       "1                      44.0                False                      0.0   \n",
       "2                       NaN                False                      0.0   \n",
       "3                     113.0                 True                     14.0   \n",
       "4                      44.0                 True                      0.0   \n",
       "\n",
       "      IncomeRange  Recommendations  AvailableBankcardCredit  \n",
       "0  $25,000-49,999                0                   1500.0  \n",
       "1  $50,000-74,999                0                  10266.0  \n",
       "2   Not displayed                0                      NaN  \n",
       "3  $25,000-49,999                0                  30754.0  \n",
       "4       $100,000+                0                    695.0  "
      ]
     },
     "execution_count": 27,
     "metadata": {},
     "output_type": "execute_result"
    }
   ],
   "source": [
    "#select variables of interest\n",
    "loan_data = loan_df[['LoanStatus', 'BorrowerAPR', 'BorrowerRate', 'Term', 'EmploymentStatus', 'EmploymentStatusDuration', 'IsBorrowerHomeowner', 'DelinquenciesLast7Years', 'IncomeRange', 'Recommendations', 'AvailableBankcardCredit']]\n",
    "loan_data.head()"
   ]
  },
  {
   "cell_type": "code",
   "execution_count": 6,
   "metadata": {},
   "outputs": [
    {
     "name": "stdout",
     "output_type": "stream",
     "text": [
      "<class 'pandas.core.frame.DataFrame'>\n",
      "RangeIndex: 113937 entries, 0 to 113936\n",
      "Data columns (total 12 columns):\n",
      " #   Column                    Non-Null Count   Dtype  \n",
      "---  ------                    --------------   -----  \n",
      " 0   LoanStatus                113937 non-null  object \n",
      " 1   BorrowerAPR               113912 non-null  float64\n",
      " 2   BorrowerRate              113937 non-null  float64\n",
      " 3   Term                      113937 non-null  int64  \n",
      " 4   EmploymentStatus          111682 non-null  object \n",
      " 5   EmploymentStatusDuration  106312 non-null  float64\n",
      " 6   IsBorrowerHomeowner       113937 non-null  bool   \n",
      " 7   CurrentDelinquencies      113240 non-null  float64\n",
      " 8   DelinquenciesLast7Years   112947 non-null  float64\n",
      " 9   IncomeRange               113937 non-null  object \n",
      " 10  Recommendations           113937 non-null  int64  \n",
      " 11  AvailableBankcardCredit   106393 non-null  float64\n",
      "dtypes: bool(1), float64(6), int64(2), object(3)\n",
      "memory usage: 9.7+ MB\n"
     ]
    }
   ],
   "source": [
    "#checking the general information ofthe dataset\n",
    "loan_data.info()"
   ]
  },
  {
   "cell_type": "code",
   "execution_count": 7,
   "metadata": {},
   "outputs": [
    {
     "data": {
      "text/html": [
       "<div>\n",
       "<style scoped>\n",
       "    .dataframe tbody tr th:only-of-type {\n",
       "        vertical-align: middle;\n",
       "    }\n",
       "\n",
       "    .dataframe tbody tr th {\n",
       "        vertical-align: top;\n",
       "    }\n",
       "\n",
       "    .dataframe thead th {\n",
       "        text-align: right;\n",
       "    }\n",
       "</style>\n",
       "<table border=\"1\" class=\"dataframe\">\n",
       "  <thead>\n",
       "    <tr style=\"text-align: right;\">\n",
       "      <th></th>\n",
       "      <th>LoanStatus</th>\n",
       "      <th>BorrowerAPR</th>\n",
       "      <th>BorrowerRate</th>\n",
       "      <th>Term</th>\n",
       "      <th>EmploymentStatus</th>\n",
       "      <th>EmploymentStatusDuration</th>\n",
       "      <th>IsBorrowerHomeowner</th>\n",
       "      <th>CurrentDelinquencies</th>\n",
       "      <th>DelinquenciesLast7Years</th>\n",
       "      <th>IncomeRange</th>\n",
       "      <th>Recommendations</th>\n",
       "      <th>AvailableBankcardCredit</th>\n",
       "    </tr>\n",
       "  </thead>\n",
       "  <tbody>\n",
       "    <tr>\n",
       "      <th>0</th>\n",
       "      <td>Completed</td>\n",
       "      <td>0.16516</td>\n",
       "      <td>0.1580</td>\n",
       "      <td>36</td>\n",
       "      <td>Self-employed</td>\n",
       "      <td>2.0</td>\n",
       "      <td>True</td>\n",
       "      <td>2.0</td>\n",
       "      <td>4.0</td>\n",
       "      <td>$25,000-49,999</td>\n",
       "      <td>0</td>\n",
       "      <td>1500.0</td>\n",
       "    </tr>\n",
       "    <tr>\n",
       "      <th>1</th>\n",
       "      <td>Current</td>\n",
       "      <td>0.12016</td>\n",
       "      <td>0.0920</td>\n",
       "      <td>36</td>\n",
       "      <td>Employed</td>\n",
       "      <td>44.0</td>\n",
       "      <td>False</td>\n",
       "      <td>0.0</td>\n",
       "      <td>0.0</td>\n",
       "      <td>$50,000-74,999</td>\n",
       "      <td>0</td>\n",
       "      <td>10266.0</td>\n",
       "    </tr>\n",
       "    <tr>\n",
       "      <th>3</th>\n",
       "      <td>Current</td>\n",
       "      <td>0.12528</td>\n",
       "      <td>0.0974</td>\n",
       "      <td>36</td>\n",
       "      <td>Employed</td>\n",
       "      <td>113.0</td>\n",
       "      <td>True</td>\n",
       "      <td>4.0</td>\n",
       "      <td>14.0</td>\n",
       "      <td>$25,000-49,999</td>\n",
       "      <td>0</td>\n",
       "      <td>30754.0</td>\n",
       "    </tr>\n",
       "    <tr>\n",
       "      <th>4</th>\n",
       "      <td>Current</td>\n",
       "      <td>0.24614</td>\n",
       "      <td>0.2085</td>\n",
       "      <td>36</td>\n",
       "      <td>Employed</td>\n",
       "      <td>44.0</td>\n",
       "      <td>True</td>\n",
       "      <td>0.0</td>\n",
       "      <td>0.0</td>\n",
       "      <td>$100,000+</td>\n",
       "      <td>0</td>\n",
       "      <td>695.0</td>\n",
       "    </tr>\n",
       "    <tr>\n",
       "      <th>5</th>\n",
       "      <td>Current</td>\n",
       "      <td>0.15425</td>\n",
       "      <td>0.1314</td>\n",
       "      <td>60</td>\n",
       "      <td>Employed</td>\n",
       "      <td>82.0</td>\n",
       "      <td>True</td>\n",
       "      <td>0.0</td>\n",
       "      <td>0.0</td>\n",
       "      <td>$100,000+</td>\n",
       "      <td>0</td>\n",
       "      <td>86509.0</td>\n",
       "    </tr>\n",
       "    <tr>\n",
       "      <th>...</th>\n",
       "      <td>...</td>\n",
       "      <td>...</td>\n",
       "      <td>...</td>\n",
       "      <td>...</td>\n",
       "      <td>...</td>\n",
       "      <td>...</td>\n",
       "      <td>...</td>\n",
       "      <td>...</td>\n",
       "      <td>...</td>\n",
       "      <td>...</td>\n",
       "      <td>...</td>\n",
       "      <td>...</td>\n",
       "    </tr>\n",
       "    <tr>\n",
       "      <th>113932</th>\n",
       "      <td>Current</td>\n",
       "      <td>0.22354</td>\n",
       "      <td>0.1864</td>\n",
       "      <td>36</td>\n",
       "      <td>Employed</td>\n",
       "      <td>246.0</td>\n",
       "      <td>True</td>\n",
       "      <td>0.0</td>\n",
       "      <td>7.0</td>\n",
       "      <td>$50,000-74,999</td>\n",
       "      <td>0</td>\n",
       "      <td>1886.0</td>\n",
       "    </tr>\n",
       "    <tr>\n",
       "      <th>113933</th>\n",
       "      <td>FinalPaymentInProgress</td>\n",
       "      <td>0.13220</td>\n",
       "      <td>0.1110</td>\n",
       "      <td>36</td>\n",
       "      <td>Employed</td>\n",
       "      <td>21.0</td>\n",
       "      <td>True</td>\n",
       "      <td>1.0</td>\n",
       "      <td>4.0</td>\n",
       "      <td>$75,000-99,999</td>\n",
       "      <td>0</td>\n",
       "      <td>6658.0</td>\n",
       "    </tr>\n",
       "    <tr>\n",
       "      <th>113934</th>\n",
       "      <td>Current</td>\n",
       "      <td>0.23984</td>\n",
       "      <td>0.2150</td>\n",
       "      <td>60</td>\n",
       "      <td>Employed</td>\n",
       "      <td>84.0</td>\n",
       "      <td>True</td>\n",
       "      <td>0.0</td>\n",
       "      <td>0.0</td>\n",
       "      <td>$25,000-49,999</td>\n",
       "      <td>0</td>\n",
       "      <td>7853.0</td>\n",
       "    </tr>\n",
       "    <tr>\n",
       "      <th>113935</th>\n",
       "      <td>Completed</td>\n",
       "      <td>0.28408</td>\n",
       "      <td>0.2605</td>\n",
       "      <td>60</td>\n",
       "      <td>Full-time</td>\n",
       "      <td>94.0</td>\n",
       "      <td>True</td>\n",
       "      <td>0.0</td>\n",
       "      <td>0.0</td>\n",
       "      <td>$25,000-49,999</td>\n",
       "      <td>0</td>\n",
       "      <td>4137.0</td>\n",
       "    </tr>\n",
       "    <tr>\n",
       "      <th>113936</th>\n",
       "      <td>Current</td>\n",
       "      <td>0.13189</td>\n",
       "      <td>0.1039</td>\n",
       "      <td>36</td>\n",
       "      <td>Employed</td>\n",
       "      <td>244.0</td>\n",
       "      <td>False</td>\n",
       "      <td>1.0</td>\n",
       "      <td>3.0</td>\n",
       "      <td>$50,000-74,999</td>\n",
       "      <td>0</td>\n",
       "      <td>675.0</td>\n",
       "    </tr>\n",
       "  </tbody>\n",
       "</table>\n",
       "<p>106290 rows × 12 columns</p>\n",
       "</div>"
      ],
      "text/plain": [
       "                    LoanStatus  BorrowerAPR  BorrowerRate  Term  \\\n",
       "0                    Completed      0.16516        0.1580    36   \n",
       "1                      Current      0.12016        0.0920    36   \n",
       "3                      Current      0.12528        0.0974    36   \n",
       "4                      Current      0.24614        0.2085    36   \n",
       "5                      Current      0.15425        0.1314    60   \n",
       "...                        ...          ...           ...   ...   \n",
       "113932                 Current      0.22354        0.1864    36   \n",
       "113933  FinalPaymentInProgress      0.13220        0.1110    36   \n",
       "113934                 Current      0.23984        0.2150    60   \n",
       "113935               Completed      0.28408        0.2605    60   \n",
       "113936                 Current      0.13189        0.1039    36   \n",
       "\n",
       "       EmploymentStatus  EmploymentStatusDuration  IsBorrowerHomeowner  \\\n",
       "0         Self-employed                       2.0                 True   \n",
       "1              Employed                      44.0                False   \n",
       "3              Employed                     113.0                 True   \n",
       "4              Employed                      44.0                 True   \n",
       "5              Employed                      82.0                 True   \n",
       "...                 ...                       ...                  ...   \n",
       "113932         Employed                     246.0                 True   \n",
       "113933         Employed                      21.0                 True   \n",
       "113934         Employed                      84.0                 True   \n",
       "113935        Full-time                      94.0                 True   \n",
       "113936         Employed                     244.0                False   \n",
       "\n",
       "        CurrentDelinquencies  DelinquenciesLast7Years     IncomeRange  \\\n",
       "0                        2.0                      4.0  $25,000-49,999   \n",
       "1                        0.0                      0.0  $50,000-74,999   \n",
       "3                        4.0                     14.0  $25,000-49,999   \n",
       "4                        0.0                      0.0       $100,000+   \n",
       "5                        0.0                      0.0       $100,000+   \n",
       "...                      ...                      ...             ...   \n",
       "113932                   0.0                      7.0  $50,000-74,999   \n",
       "113933                   1.0                      4.0  $75,000-99,999   \n",
       "113934                   0.0                      0.0  $25,000-49,999   \n",
       "113935                   0.0                      0.0  $25,000-49,999   \n",
       "113936                   1.0                      3.0  $50,000-74,999   \n",
       "\n",
       "        Recommendations  AvailableBankcardCredit  \n",
       "0                     0                   1500.0  \n",
       "1                     0                  10266.0  \n",
       "3                     0                  30754.0  \n",
       "4                     0                    695.0  \n",
       "5                     0                  86509.0  \n",
       "...                 ...                      ...  \n",
       "113932                0                   1886.0  \n",
       "113933                0                   6658.0  \n",
       "113934                0                   7853.0  \n",
       "113935                0                   4137.0  \n",
       "113936                0                    675.0  \n",
       "\n",
       "[106290 rows x 12 columns]"
      ]
     },
     "execution_count": 7,
     "metadata": {},
     "output_type": "execute_result"
    }
   ],
   "source": [
    "#delete rows with missing values\n",
    "loan_data.dropna()"
   ]
  },
  {
   "cell_type": "markdown",
   "metadata": {},
   "source": [
    "### What is the structure of your dataset?\n",
    "\n",
    "> The dataset contains 113937 rows and 81 columns\n",
    "\n",
    "### What is/are the main feature(s) of interest in your dataset?\n",
    "\n",
    "> Your answer here!\n",
    "\n",
    "### What features in the dataset do you think will help support your investigation into your feature(s) of interest?\n",
    "\n",
    "> Your answer here!"
   ]
  },
  {
   "cell_type": "markdown",
   "metadata": {},
   "source": [
    "<a id='univariate'></a>\n",
    "## Univariate Exploration"
   ]
  },
  {
   "cell_type": "markdown",
   "metadata": {},
   "source": [
    ">In the cell below I am carrying out a univariate analysis on the **Employment Status** variable inorder to investigate what status the larger number of the population in the dataset falls under.\n",
    "The _EmploymentStatus_ feature contains categorical data so I would be using a bar chart to visualise.\n",
    "\n",
    ">From the plot below, it is observed a larger group of people taking a loan are employed."
   ]
  },
  {
   "cell_type": "code",
   "execution_count": 8,
   "metadata": {},
   "outputs": [
    {
     "data": {
      "image/png": "[encoded data removed]",
      "text/plain": [
       "<Figure size 720x576 with 1 Axes>"
      ]
     },
     "metadata": {
      "needs_background": "light"
     },
     "output_type": "display_data"
    }
   ],
   "source": [
    "#Bar chart visualising the EmploymentStatus feature\n",
    "loan_data['EmploymentStatus'].value_counts().plot(kind='bar', figsize=(10,8));\n",
    "plt.xlabel('Employment Status')\n",
    "plt.ylabel('Count')\n",
    "plt.title('Employment Status plot')\n",
    "plt.xticks(rotation=45)\n",
    "plt.show()"
   ]
  },
  {
   "cell_type": "markdown",
   "metadata": {},
   "source": [
    ">In the cell below I am carrying out a univariate analysis on the **IsBorrowerHomeowner** variable inorder to investigate if a loan applicant owns a home or not, A home would be a good loan collateral to qualitfy and improve borrower rate. "
   ]
  },
  {
   "cell_type": "code",
   "execution_count": 9,
   "metadata": {},
   "outputs": [
    {
     "data": {
      "image/png": "[encoded data removed]",
      "text/plain": [
       "<Figure size 720x576 with 1 Axes>"
      ]
     },
     "metadata": {
      "needs_background": "light"
     },
     "output_type": "display_data"
    }
   ],
   "source": [
    "#Bar chart visualising the IsBorrowerHomeOwner feature\n",
    "loan_data['IsBorrowerHomeowner'].value_counts().plot(kind='bar', figsize=(10,8));\n",
    "plt.xlabel('Is Borrower Homeowner')\n",
    "plt.ylabel('Count')\n",
    "plt.title('Is Borrower a Homeowner plot')\n",
    "plt.xticks(rotation=45)\n",
    "plt.show()"
   ]
  },
  {
   "cell_type": "markdown",
   "metadata": {},
   "source": [
    ">In the cell below I am carrying out a univariate analysis on the **Loan Status** variable inorder to visualize the loan status of loan applicants\n",
    "The Loan Status feature contains categorical data so I would be using a bar chart to visualise."
   ]
  },
  {
   "cell_type": "code",
   "execution_count": 26,
   "metadata": {},
   "outputs": [
    {
     "data": {
      "image/png": "[encoded data removed]",
      "text/plain": [
       "<Figure size 432x288 with 1 Axes>"
      ]
     },
     "metadata": {
      "needs_background": "light"
     },
     "output_type": "display_data"
    }
   ],
   "source": [
    "#Barchart of Loan status\n",
    "type_order = loan_data['LoanStatus'].value_counts().index\n",
    "sb.countplot(data=loan_data, y='LoanStatus',color='Blue', order=type_order);"
   ]
  },
  {
   "cell_type": "markdown",
   "metadata": {},
   "source": [
    ">In the cell below I am carrying out a univariate analysis on the **Borrower APR** variable inorder to visualize the loan status of loan applicants\n",
    "The Borrower APR feature contains quantitative data so I would be using a histogram to visualise."
   ]
  },
  {
   "cell_type": "code",
   "execution_count": 15,
   "metadata": {},
   "outputs": [
    {
     "data": {
      "image/png": "[encoded data removed]",
      "text/plain": [
       "<Figure size 432x288 with 1 Axes>"
      ]
     },
     "metadata": {
      "needs_background": "light"
     },
     "output_type": "display_data"
    }
   ],
   "source": [
    "#histogram plot of Employment status duration\n",
    "plt.hist(data = loan_data, x = 'BorrowerAPR');\n",
    "plt.xlabel('BorrowerAPR')\n",
    "plt.ylabel('Count')\n",
    "plt.title('Borrower APR plot');\n"
   ]
  },
  {
   "cell_type": "markdown",
   "metadata": {},
   "source": [
    ">In the cell below I am carrying out a univariate analysis on the **Employment Status Duration** variable inorder to visualize the employment duration of loan applicants.\n",
    "\n",
    ">The Employment Status Duration feature contains quantitative data so I would be using a histogram to visualise."
   ]
  },
  {
   "cell_type": "code",
   "execution_count": 11,
   "metadata": {},
   "outputs": [
    {
     "data": {
      "image/png": "[encoded data removed]",
      "text/plain": [
       "<Figure size 432x288 with 1 Axes>"
      ]
     },
     "metadata": {
      "needs_background": "light"
     },
     "output_type": "display_data"
    }
   ],
   "source": [
    "#histogram plot of Employment status duration\n",
    "plt.hist(data = loan_data, x = 'EmploymentStatusDuration');\n",
    "plt.xlabel('Employment Status Duration (in Months)')\n",
    "plt.ylabel('Count')\n",
    "plt.title('Employment Status Duration plot');\n"
   ]
  },
  {
   "cell_type": "markdown",
   "metadata": {},
   "source": [
    ">In the cell below I am carrying out a univariate analysis on the _Occupation_ variable inorder to investigate what status the larger number of the population in the dataset falls under.\n",
    "The _Occupation_ feature contains categorical data so I would be using a bar chart to visualise."
   ]
  },
  {
   "cell_type": "code",
   "execution_count": 12,
   "metadata": {},
   "outputs": [
    {
     "data": {
      "image/png": "[encoded data removed]",
      "text/plain": [
       "<Figure size 432x288 with 1 Axes>"
      ]
     },
     "metadata": {},
     "output_type": "display_data"
    }
   ],
   "source": [
    "sorted_counts = loan_data['Recommendations'].value_counts()\n",
    "\n",
    "\n",
    "\n",
    "plt.pie(sorted_counts, labels = sorted_counts.index);\n",
    "\n",
    "\n"
   ]
  },
  {
   "cell_type": "markdown",
   "metadata": {},
   "source": [
    ">In the cell below I am carrying out a univariate analysis on the **Income Range** variable inorder to explore and visualize the income range of loan applicants.\n",
    "The Income Range feature contains categorical data so I would be using a bar chart to visualise."
   ]
  },
  {
   "cell_type": "code",
   "execution_count": 20,
   "metadata": {},
   "outputs": [
    {
     "data": {
      "image/png": "[encoded data removed]",
      "text/plain": [
       "<Figure size 720x576 with 1 Axes>"
      ]
     },
     "metadata": {
      "needs_background": "light"
     },
     "output_type": "display_data"
    }
   ],
   "source": [
    "#Bar chart visualising the Income Range feature\n",
    "loan_data['IncomeRange'].value_counts().plot(kind='bar', figsize=(10,8));\n",
    "plt.xlabel('Income Range')\n",
    "plt.ylabel('Count')\n",
    "plt.title('Income Range plot')\n",
    "plt.xticks(rotation=45)\n",
    "plt.show()"
   ]
  },
  {
   "cell_type": "markdown",
   "metadata": {},
   "source": [
    ">In the cell below I am carrying out a univariate analysis on the **Borrower Rate** variable inorder to explore and visualize the Borrower Rate of loan applicants.\n",
    "The Borrower Rate feature contains quantitative data so I would be using a histogram to visualise."
   ]
  },
  {
   "cell_type": "code",
   "execution_count": 17,
   "metadata": {},
   "outputs": [
    {
     "data": {
      "image/png": "[encoded data removed]",
      "text/plain": [
       "<Figure size 432x288 with 1 Axes>"
      ]
     },
     "metadata": {
      "needs_background": "light"
     },
     "output_type": "display_data"
    }
   ],
   "source": [
    "#histogram plot of Borrower Rate duration\n",
    "plt.hist(data = loan_data, x = 'BorrowerRate');\n",
    "plt.xlabel('Borrower Rate')\n",
    "plt.ylabel('Count')\n",
    "plt.title('Borrower Rate plot');"
   ]
  },
  {
   "cell_type": "markdown",
   "metadata": {},
   "source": [
    ">In the cell below I am carrying out a univariate analysis on the **Term** variable inorder to visualize the loan Term frequency.\n",
    "The Term feature contains quantitative data so I would be using a pie chart to visualise the frequency."
   ]
  },
  {
   "cell_type": "code",
   "execution_count": 13,
   "metadata": {},
   "outputs": [
    {
     "data": {
      "image/png": "[encoded data removed]",
      "text/plain": [
       "<Figure size 432x288 with 1 Axes>"
      ]
     },
     "metadata": {},
     "output_type": "display_data"
    }
   ],
   "source": [
    "#pie chart showing the relative frequency of loan Terms\n",
    "\n",
    "sorted_counts = loan_data['Term'].value_counts()\n",
    "\n",
    "\n",
    "plt.pie(sorted_counts, labels = sorted_counts.index);\n",
    "\n",
    "\n"
   ]
  },
  {
   "cell_type": "code",
   "execution_count": 19,
   "metadata": {},
   "outputs": [
    {
     "data": {
      "image/png": "[encoded data removed]",
      "text/plain": [
       "<Figure size 432x288 with 1 Axes>"
      ]
     },
     "metadata": {
      "needs_background": "light"
     },
     "output_type": "display_data"
    }
   ],
   "source": [
    "#histogram plot of DelinquenciesLast7Years duration\n",
    "plt.hist(data = loan_data, x = 'DelinquenciesLast7Years');\n",
    "plt.xlabel('Delinquencies in the Last 7 Years')\n",
    "plt.ylabel('Count')\n",
    "plt.title('Delinquenciesfor the Last 7 Years');\n",
    "\n"
   ]
  },
  {
   "cell_type": "code",
   "execution_count": 23,
   "metadata": {},
   "outputs": [
    {
     "data": {
      "image/png": "[encoded data removed]",
      "text/plain": [
       "<Figure size 432x288 with 1 Axes>"
      ]
     },
     "metadata": {
      "needs_background": "light"
     },
     "output_type": "display_data"
    }
   ],
   "source": [
    "#histogram plot of CurrentDelinquencies duration\n",
    "plt.hist(data = loan_data, x = 'AvailableBankcardCredit');\n",
    "plt.xlabel('AvailableBankcardCredit')\n",
    "plt.ylabel('Count')\n",
    "plt.title('AvailableBankcardCredit');\n"
   ]
  },
  {
   "cell_type": "markdown",
   "metadata": {},
   "source": [
    "\n",
    "\n",
    ">**Rubric Tip**: Visualizations should depict the data appropriately so that the plots are easily interpretable. You should choose an appropriate plot type, data encodings, and formatting as needed. The formatting may include setting/adding the title, labels, legend, and comments. Also, do not overplot or incorrectly plot ordinal data."
   ]
  },
  {
   "cell_type": "code",
   "execution_count": null,
   "metadata": {},
   "outputs": [],
   "source": []
  },
  {
   "cell_type": "markdown",
   "metadata": {},
   "source": [
    "### Discuss the distribution(s) of your variable(s) of interest. Were there any unusual points? Did you need to perform any transformations?\n",
    "\n",
    "> Your answer here!\n",
    "\n",
    "### Of the features you investigated, were there any unusual distributions? Did you perform any operations on the data to tidy, adjust, or change the form of the data? If so, why did you do this?\n",
    "\n",
    "> Your answer here!"
   ]
  },
  {
   "cell_type": "markdown",
   "metadata": {},
   "source": [
    "<a id='bivariate'></a>\n",
    "## Bivariate Exploration\n",
    "\n",
    "> In this section, investigate relationships between pairs of variables in your\n",
    "data. Make sure the variables that you cover here have been introduced in some\n",
    "fashion in the previous section (univariate exploration)."
   ]
  },
  {
   "cell_type": "code",
   "execution_count": null,
   "metadata": {},
   "outputs": [],
   "source": []
  },
  {
   "cell_type": "markdown",
   "metadata": {},
   "source": [
    "### Talk about some of the relationships you observed in this part of the investigation. How did the feature(s) of interest vary with other features in the dataset?\n",
    "\n",
    "> Your answer here!\n",
    "\n",
    "### Did you observe any interesting relationships between the other features (not the main feature(s) of interest)?\n",
    "\n",
    "> Your answer here!"
   ]
  },
  {
   "cell_type": "markdown",
   "metadata": {},
   "source": [
    "<a id='multivariate'></a>\n",
    "## Multivariate Exploration\n",
    "\n",
    "> Create plots of three or more variables to investigate your data even\n",
    "further. Make sure that your investigations are justified, and follow from\n",
    "your work in the previous sections."
   ]
  },
  {
   "cell_type": "code",
   "execution_count": null,
   "metadata": {},
   "outputs": [],
   "source": []
  },
  {
   "cell_type": "markdown",
   "metadata": {},
   "source": [
    "### Talk about some of the relationships you observed in this part of the investigation. Were there features that strengthened each other in terms of looking at your feature(s) of interest?\n",
    "\n",
    "> Your answer here!\n",
    "\n",
    "### Were there any interesting or surprising interactions between features?\n",
    "\n",
    "> Your answer here!"
   ]
  },
  {
   "cell_type": "markdown",
   "metadata": {},
   "source": [
    "<a id='conclusion'></a>\n",
    "## Conclusions\n",
    ">You can write a summary of the main findings and reflect on the steps taken during the data exploration.\n"
   ]
  },
  {
   "cell_type": "markdown",
   "metadata": {},
   "source": [
    "\n",
    "> Remove all Tips mentioned above, before you convert this notebook to PDF/HTML\n",
    "\n",
    "\n",
    "> At the end of your report, make sure that you export the notebook as an\n",
    "html file from the `File > Download as... > HTML or PDF` menu. Make sure you keep\n",
    "track of where the exported file goes, so you can put it in the same folder\n",
    "as this notebook for project submission. Also, make sure you remove all of\n",
    "the quote-formatted guide notes like this one before you finish your report!\n",
    "\n"
   ]
  },
  {
   "cell_type": "code",
   "execution_count": null,
   "metadata": {},
   "outputs": [],
   "source": []
  }
 ],
 "metadata": {
  "kernelspec": {
   "display_name": "Python 3 (ipykernel)",
   "language": "python",
   "name": "python3"
  },
  "language_info": {
   "codemirror_mode": {
    "name": "ipython",
    "version": 3
   },
   "file_extension": ".py",
   "mimetype": "text/x-python",
   "name": "python",
   "nbconvert_exporter": "python",
   "pygments_lexer": "ipython3",
   "version": "3.9.12"
  }
 },
 "nbformat": 4,
 "nbformat_minor": 2
}
